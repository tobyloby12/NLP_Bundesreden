{
  "nbformat": 4,
  "nbformat_minor": 0,
  "metadata": {
    "colab": {
      "name": "NLP cleaned.ipynb",
      "provenance": [],
      "collapsed_sections": [
        "RCMgfMVrYFi2",
        "Y-N6KJG2a274",
        "UrKcvjz4e0iV",
        "EIAC3kr6Jruu"
      ],
      "authorship_tag": "ABX9TyNFlcv9fuyHD6AZKTV77y1r",
      "include_colab_link": true
    },
    "kernelspec": {
      "display_name": "Python 3",
      "name": "python3"
    },
    "language_info": {
      "name": "python"
    }
  },
  "cells": [
    {
      "cell_type": "markdown",
      "metadata": {
        "id": "view-in-github",
        "colab_type": "text"
      },
      "source": [
        "<a href=\"https://colab.research.google.com/github/tobyloby12/NLP_Bundesreden/blob/main/NLP_cleaned.ipynb\" target=\"_parent\"><img src=\"https://colab.research.google.com/assets/colab-badge.svg\" alt=\"Open In Colab\"/></a>"
      ]
    },
    {
      "cell_type": "markdown",
      "metadata": {
        "id": "RCMgfMVrYFi2"
      },
      "source": [
        "#Connecting to notebook\n",
        "\n",
        "> Mounting notebook to google drive \n",
        "\n",
        "\n",
        "\n",
        "\n",
        "> Changing directory so that I can access data"
      ]
    },
    {
      "cell_type": "code",
      "metadata": {
        "id": "MdQi1yUXX26c",
        "colab": {
          "base_uri": "https://localhost:8080/"
        },
        "outputId": "16a90304-b830-4a18-e743-85857da776a5"
      },
      "source": [
        "from google.colab import drive\n",
        "drive.mount('/content/gdrive')"
      ],
      "execution_count": null,
      "outputs": [
        {
          "output_type": "stream",
          "text": [
            "Drive already mounted at /content/gdrive; to attempt to forcibly remount, call drive.mount(\"/content/gdrive\", force_remount=True).\n"
          ],
          "name": "stdout"
        }
      ]
    },
    {
      "cell_type": "code",
      "metadata": {
        "id": "fRZ7A4ShX5SE"
      },
      "source": [
        "import os\n",
        "\n",
        "path = 'gdrive/MyDrive'\n",
        "path = os.path.join(path, 'PD NLP project')\n",
        "os.chdir(path)"
      ],
      "execution_count": null,
      "outputs": []
    },
    {
      "cell_type": "markdown",
      "metadata": {
        "id": "3_3q8NRmYP8-"
      },
      "source": [
        "#Importing data\n",
        "\n",
        "> Create a function to take in a link and save it to drive so that I can access it\n",
        "\n",
        "> Create a function to read through the pdf and create a text file I can use"
      ]
    },
    {
      "cell_type": "code",
      "metadata": {
        "id": "B81xDnn-YNuT"
      },
      "source": [
        "import pandas as pd\n",
        "\n",
        "df_data = pd.read_excel('PD-Projektdatenbank.xlsx')\n",
        "df_pd = df_data[['Titel', 'Projektbeschreibung', 'Leistungszeitraum']]\n",
        "df_speeches = pd.read_csv('speeches.csv')\n",
        "\n",
        "df_speeches.date[2][:-6] == '1949'\n",
        "\n",
        "date_filter = []\n",
        "for line in range(len(df_speeches)):\n",
        "  date = int(df_speeches.date[line][:-6])\n",
        "  if date > 2000:\n",
        "    date_filter.append(True)\n",
        "  else:\n",
        "    date_filter.append(False)\n",
        "\n",
        "pd.DataFrame(date_filter)\n",
        "speeches_date_filtered = df_speeches[date_filter]"
      ],
      "execution_count": null,
      "outputs": []
    },
    {
      "cell_type": "markdown",
      "metadata": {
        "id": "diKdIu5kZsem"
      },
      "source": [
        "#Text cleaning function"
      ]
    },
    {
      "cell_type": "code",
      "metadata": {
        "id": "rjIYsjZMZrX_",
        "colab": {
          "base_uri": "https://localhost:8080/"
        },
        "outputId": "a98b29da-5719-4bb2-fa80-10fe04730a4b"
      },
      "source": [
        "!pip install nltk;\n",
        "!pip install spacy;\n",
        "!python -m spacy download de_core_news_sm;"
      ],
      "execution_count": null,
      "outputs": [
        {
          "output_type": "stream",
          "text": [
            "Requirement already satisfied: nltk in /usr/local/lib/python3.7/dist-packages (3.2.5)\n",
            "Requirement already satisfied: six in /usr/local/lib/python3.7/dist-packages (from nltk) (1.15.0)\n",
            "Requirement already satisfied: spacy in /usr/local/lib/python3.7/dist-packages (2.2.4)\n",
            "Requirement already satisfied: tqdm<5.0.0,>=4.38.0 in /usr/local/lib/python3.7/dist-packages (from spacy) (4.62.0)\n",
            "Requirement already satisfied: srsly<1.1.0,>=1.0.2 in /usr/local/lib/python3.7/dist-packages (from spacy) (1.0.5)\n",
            "Requirement already satisfied: murmurhash<1.1.0,>=0.28.0 in /usr/local/lib/python3.7/dist-packages (from spacy) (1.0.5)\n",
            "Requirement already satisfied: plac<1.2.0,>=0.9.6 in /usr/local/lib/python3.7/dist-packages (from spacy) (1.1.3)\n",
            "Requirement already satisfied: preshed<3.1.0,>=3.0.2 in /usr/local/lib/python3.7/dist-packages (from spacy) (3.0.5)\n",
            "Requirement already satisfied: blis<0.5.0,>=0.4.0 in /usr/local/lib/python3.7/dist-packages (from spacy) (0.4.1)\n",
            "Requirement already satisfied: wasabi<1.1.0,>=0.4.0 in /usr/local/lib/python3.7/dist-packages (from spacy) (0.8.2)\n",
            "Requirement already satisfied: requests<3.0.0,>=2.13.0 in /usr/local/lib/python3.7/dist-packages (from spacy) (2.23.0)\n",
            "Requirement already satisfied: thinc==7.4.0 in /usr/local/lib/python3.7/dist-packages (from spacy) (7.4.0)\n",
            "Requirement already satisfied: catalogue<1.1.0,>=0.0.7 in /usr/local/lib/python3.7/dist-packages (from spacy) (1.0.0)\n",
            "Requirement already satisfied: numpy>=1.15.0 in /usr/local/lib/python3.7/dist-packages (from spacy) (1.19.5)\n",
            "Requirement already satisfied: setuptools in /usr/local/lib/python3.7/dist-packages (from spacy) (57.4.0)\n",
            "Requirement already satisfied: cymem<2.1.0,>=2.0.2 in /usr/local/lib/python3.7/dist-packages (from spacy) (2.0.5)\n",
            "Requirement already satisfied: importlib-metadata>=0.20 in /usr/local/lib/python3.7/dist-packages (from catalogue<1.1.0,>=0.0.7->spacy) (4.6.4)\n",
            "Requirement already satisfied: zipp>=0.5 in /usr/local/lib/python3.7/dist-packages (from importlib-metadata>=0.20->catalogue<1.1.0,>=0.0.7->spacy) (3.5.0)\n",
            "Requirement already satisfied: typing-extensions>=3.6.4 in /usr/local/lib/python3.7/dist-packages (from importlib-metadata>=0.20->catalogue<1.1.0,>=0.0.7->spacy) (3.7.4.3)\n",
            "Requirement already satisfied: certifi>=2017.4.17 in /usr/local/lib/python3.7/dist-packages (from requests<3.0.0,>=2.13.0->spacy) (2021.5.30)\n",
            "Requirement already satisfied: idna<3,>=2.5 in /usr/local/lib/python3.7/dist-packages (from requests<3.0.0,>=2.13.0->spacy) (2.10)\n",
            "Requirement already satisfied: urllib3!=1.25.0,!=1.25.1,<1.26,>=1.21.1 in /usr/local/lib/python3.7/dist-packages (from requests<3.0.0,>=2.13.0->spacy) (1.24.3)\n",
            "Requirement already satisfied: chardet<4,>=3.0.2 in /usr/local/lib/python3.7/dist-packages (from requests<3.0.0,>=2.13.0->spacy) (3.0.4)\n",
            "Collecting de_core_news_sm==2.2.5\n",
            "  Downloading https://github.com/explosion/spacy-models/releases/download/de_core_news_sm-2.2.5/de_core_news_sm-2.2.5.tar.gz (14.9 MB)\n",
            "\u001b[K     |████████████████████████████████| 14.9 MB 40.7 MB/s \n",
            "\u001b[?25hRequirement already satisfied: spacy>=2.2.2 in /usr/local/lib/python3.7/dist-packages (from de_core_news_sm==2.2.5) (2.2.4)\n",
            "Requirement already satisfied: plac<1.2.0,>=0.9.6 in /usr/local/lib/python3.7/dist-packages (from spacy>=2.2.2->de_core_news_sm==2.2.5) (1.1.3)\n",
            "Requirement already satisfied: blis<0.5.0,>=0.4.0 in /usr/local/lib/python3.7/dist-packages (from spacy>=2.2.2->de_core_news_sm==2.2.5) (0.4.1)\n",
            "Requirement already satisfied: catalogue<1.1.0,>=0.0.7 in /usr/local/lib/python3.7/dist-packages (from spacy>=2.2.2->de_core_news_sm==2.2.5) (1.0.0)\n",
            "Requirement already satisfied: preshed<3.1.0,>=3.0.2 in /usr/local/lib/python3.7/dist-packages (from spacy>=2.2.2->de_core_news_sm==2.2.5) (3.0.5)\n",
            "Requirement already satisfied: numpy>=1.15.0 in /usr/local/lib/python3.7/dist-packages (from spacy>=2.2.2->de_core_news_sm==2.2.5) (1.19.5)\n",
            "Requirement already satisfied: requests<3.0.0,>=2.13.0 in /usr/local/lib/python3.7/dist-packages (from spacy>=2.2.2->de_core_news_sm==2.2.5) (2.23.0)\n",
            "Requirement already satisfied: murmurhash<1.1.0,>=0.28.0 in /usr/local/lib/python3.7/dist-packages (from spacy>=2.2.2->de_core_news_sm==2.2.5) (1.0.5)\n",
            "Requirement already satisfied: tqdm<5.0.0,>=4.38.0 in /usr/local/lib/python3.7/dist-packages (from spacy>=2.2.2->de_core_news_sm==2.2.5) (4.62.0)\n",
            "Requirement already satisfied: setuptools in /usr/local/lib/python3.7/dist-packages (from spacy>=2.2.2->de_core_news_sm==2.2.5) (57.4.0)\n",
            "Requirement already satisfied: thinc==7.4.0 in /usr/local/lib/python3.7/dist-packages (from spacy>=2.2.2->de_core_news_sm==2.2.5) (7.4.0)\n",
            "Requirement already satisfied: cymem<2.1.0,>=2.0.2 in /usr/local/lib/python3.7/dist-packages (from spacy>=2.2.2->de_core_news_sm==2.2.5) (2.0.5)\n",
            "Requirement already satisfied: srsly<1.1.0,>=1.0.2 in /usr/local/lib/python3.7/dist-packages (from spacy>=2.2.2->de_core_news_sm==2.2.5) (1.0.5)\n",
            "Requirement already satisfied: wasabi<1.1.0,>=0.4.0 in /usr/local/lib/python3.7/dist-packages (from spacy>=2.2.2->de_core_news_sm==2.2.5) (0.8.2)\n",
            "Requirement already satisfied: importlib-metadata>=0.20 in /usr/local/lib/python3.7/dist-packages (from catalogue<1.1.0,>=0.0.7->spacy>=2.2.2->de_core_news_sm==2.2.5) (4.6.4)\n",
            "Requirement already satisfied: zipp>=0.5 in /usr/local/lib/python3.7/dist-packages (from importlib-metadata>=0.20->catalogue<1.1.0,>=0.0.7->spacy>=2.2.2->de_core_news_sm==2.2.5) (3.5.0)\n",
            "Requirement already satisfied: typing-extensions>=3.6.4 in /usr/local/lib/python3.7/dist-packages (from importlib-metadata>=0.20->catalogue<1.1.0,>=0.0.7->spacy>=2.2.2->de_core_news_sm==2.2.5) (3.7.4.3)\n",
            "Requirement already satisfied: chardet<4,>=3.0.2 in /usr/local/lib/python3.7/dist-packages (from requests<3.0.0,>=2.13.0->spacy>=2.2.2->de_core_news_sm==2.2.5) (3.0.4)\n",
            "Requirement already satisfied: idna<3,>=2.5 in /usr/local/lib/python3.7/dist-packages (from requests<3.0.0,>=2.13.0->spacy>=2.2.2->de_core_news_sm==2.2.5) (2.10)\n",
            "Requirement already satisfied: urllib3!=1.25.0,!=1.25.1,<1.26,>=1.21.1 in /usr/local/lib/python3.7/dist-packages (from requests<3.0.0,>=2.13.0->spacy>=2.2.2->de_core_news_sm==2.2.5) (1.24.3)\n",
            "Requirement already satisfied: certifi>=2017.4.17 in /usr/local/lib/python3.7/dist-packages (from requests<3.0.0,>=2.13.0->spacy>=2.2.2->de_core_news_sm==2.2.5) (2021.5.30)\n",
            "\u001b[38;5;2m✔ Download and installation successful\u001b[0m\n",
            "You can now load the model via spacy.load('de_core_news_sm')\n"
          ],
          "name": "stdout"
        }
      ]
    },
    {
      "cell_type": "code",
      "metadata": {
        "id": "9hN6lmm_aDBu",
        "colab": {
          "base_uri": "https://localhost:8080/"
        },
        "outputId": "c61a3a1d-17a8-4a6f-f2fa-eea94e14c0b1"
      },
      "source": [
        "from nltk.corpus import stopwords\n",
        "import nltk\n",
        "from nltk.corpus import stopwords\n",
        "import nltk\n",
        "from string import punctuation\n",
        "from string import digits\n",
        "import spacy\n",
        "\n",
        "nltk.download('stopwords')\n",
        "\n",
        "german_stopwords = stopwords.words('german')\n",
        "speech_content = df_speeches[['speechContent']]\n",
        "\n",
        "\n",
        "#setting up stopwords\n",
        "nltk.download('stopwords')\n",
        "german_stopwords = stopwords.words('german')\n",
        "model_de = spacy.load('de_core_news_sm')\n",
        "\n",
        "# removing umlauts function\n",
        "def remove_umlauts(word):\n",
        "  tempWord = word\n",
        "  tempWord = tempWord.replace('ä', 'ae')\n",
        "  tempWord = tempWord.replace('ö', 'oe')\n",
        "  tempWord = tempWord.replace('ü', 'ue')\n",
        "  tempWord = tempWord.replace('Ä', 'Ae')\n",
        "  tempWord = tempWord.replace('Ö', 'Oe')\n",
        "  tempWord = tempWord.replace('Ü', 'Ue')\n",
        "  tempWord = tempWord.replace('ß', 'ss')\n",
        "  return tempWord\n",
        "\n",
        "#remove currency function\n",
        "def remove_currency(word):\n",
        "  tempWord = word\n",
        "  tempWord = tempWord.replace('$', '')\n",
        "  tempWord = tempWord.replace('€', '')\n",
        "  tempWord = tempWord.replace('¥', '')\n",
        "  tempWord = tempWord.replace('₹', '')\n",
        "  tempWord = tempWord.replace('£', '')\n",
        "  return tempWord\n",
        "\n",
        "#lemmatization function\n",
        "def lemmatizer(text): \n",
        "    sent = []\n",
        "    doc = model_de(text)\n",
        "    for word in doc:\n",
        "        sent.append(word.lemma_)\n",
        "    return \" \".join(sent)\n",
        "\n",
        "\n",
        "\n",
        "#full function to clean text from input text\n",
        "def data_cleaning(input_text):\n",
        "  \n",
        "  #removing punctuation\n",
        "  remove_pun = str.maketrans('', '', punctuation)\n",
        "  text_wo_pun = input_text.translate(remove_pun)\n",
        "\n",
        "  #removing digits\n",
        "  remove_digits = str.maketrans('', '', digits)\n",
        "  text_wo_num = text_wo_pun.translate(remove_digits)\n",
        "\n",
        "  #removing currency\n",
        "  text_wo_currency = remove_currency(text_wo_num)\n",
        "\n",
        "  #lemmatization\n",
        "  text_lemmatized = lemmatizer(text_wo_currency.lower())\n",
        "\n",
        "  #removing stop words\n",
        "  text_wo_stop_words = [word for word in text_lemmatized.split() if text_lemmatized.lower() not in german_stopwords_wo_umlaut]\n",
        "\n",
        "  return text_wo_stop_words\n",
        "\n",
        "#setting up stopwords\n",
        "nltk.download('stopwords')\n",
        "german_stopwords = stopwords.words('german')\n",
        "german_stopwords_wo_umlaut = []\n",
        "for word in german_stopwords:\n",
        "  german_stopwords_wo_umlaut.append(remove_umlauts(word))"
      ],
      "execution_count": null,
      "outputs": [
        {
          "output_type": "stream",
          "text": [
            "[nltk_data] Downloading package stopwords to /root/nltk_data...\n",
            "[nltk_data]   Package stopwords is already up-to-date!\n",
            "[nltk_data] Downloading package stopwords to /root/nltk_data...\n",
            "[nltk_data]   Package stopwords is already up-to-date!\n",
            "[nltk_data] Downloading package stopwords to /root/nltk_data...\n",
            "[nltk_data]   Package stopwords is already up-to-date!\n"
          ],
          "name": "stdout"
        }
      ]
    },
    {
      "cell_type": "markdown",
      "metadata": {
        "id": "Y-N6KJG2a274"
      },
      "source": [
        "#Extracting text from pdf\n",
        "\n",
        "> Creating function to read and write pdf file to drive\n",
        "\n",
        "> Creating function to read pdf and convert it to text"
      ]
    },
    {
      "cell_type": "code",
      "metadata": {
        "id": "Yr3GunRDcNOJ",
        "colab": {
          "base_uri": "https://localhost:8080/"
        },
        "outputId": "c661acdb-b5d5-4675-c17d-d82e1d672671"
      },
      "source": [
        "!pip install pdfplumber;"
      ],
      "execution_count": null,
      "outputs": [
        {
          "output_type": "stream",
          "text": [
            "Collecting pdfplumber\n",
            "  Downloading pdfplumber-0.5.28.tar.gz (45 kB)\n",
            "\u001b[K     |████████████████████████████████| 45 kB 3.4 MB/s \n",
            "\u001b[?25hCollecting pdfminer.six==20200517\n",
            "  Downloading pdfminer.six-20200517-py3-none-any.whl (5.6 MB)\n",
            "\u001b[K     |████████████████████████████████| 5.6 MB 24.2 MB/s \n",
            "\u001b[?25hRequirement already satisfied: Pillow>=7.0.0 in /usr/local/lib/python3.7/dist-packages (from pdfplumber) (7.1.2)\n",
            "Collecting Wand\n",
            "  Downloading Wand-0.6.7-py2.py3-none-any.whl (139 kB)\n",
            "\u001b[K     |████████████████████████████████| 139 kB 47.2 MB/s \n",
            "\u001b[?25hRequirement already satisfied: sortedcontainers in /usr/local/lib/python3.7/dist-packages (from pdfminer.six==20200517->pdfplumber) (2.4.0)\n",
            "Collecting pycryptodome\n",
            "  Downloading pycryptodome-3.10.1-cp35-abi3-manylinux2010_x86_64.whl (1.9 MB)\n",
            "\u001b[K     |████████████████████████████████| 1.9 MB 35.8 MB/s \n",
            "\u001b[?25hRequirement already satisfied: chardet in /usr/local/lib/python3.7/dist-packages (from pdfminer.six==20200517->pdfplumber) (3.0.4)\n",
            "Building wheels for collected packages: pdfplumber\n",
            "  Building wheel for pdfplumber (setup.py) ... \u001b[?25l\u001b[?25hdone\n",
            "  Created wheel for pdfplumber: filename=pdfplumber-0.5.28-py3-none-any.whl size=32240 sha256=c9b49c90829d3f10f3dc9c7912db4533e6ad8d0c435582b8c46f0bfa91b16835\n",
            "  Stored in directory: /root/.cache/pip/wheels/f2/b1/a0/c0a77b756d580f53b3806ae0e0b3ec945a8d05fca1d6e10cc1\n",
            "Successfully built pdfplumber\n",
            "Installing collected packages: pycryptodome, Wand, pdfminer.six, pdfplumber\n",
            "Successfully installed Wand-0.6.7 pdfminer.six-20200517 pdfplumber-0.5.28 pycryptodome-3.10.1\n"
          ],
          "name": "stdout"
        }
      ]
    },
    {
      "cell_type": "code",
      "metadata": {
        "id": "VIajVbiIa2UG"
      },
      "source": [
        "import os\n",
        "import urllib.request\n",
        "import pdfplumber\n",
        "\n",
        "def download_pdf(pdf_url, filename):\n",
        "  response = urllib.request.urlopen(pdf_url)\n",
        "  file = open(filename + \".pdf\", 'wb')\n",
        "  file.write(response.read())\n",
        "  file.close()\n",
        "\n",
        "def convert_pdf_to_text(filename):\n",
        "  with pdfplumber.open(filename + '.pdf') as pdf:\n",
        "    without_cleaning = ''\n",
        "    for i in range(len(pdf.pages)-1):\n",
        "      page = pdf.pages[i]\n",
        "      if page.extract_text() != None:\n",
        "        without_cleaning = without_cleaning + page.extract_text()\n",
        "    return without_cleaning\n",
        "\n",
        "\n"
      ],
      "execution_count": null,
      "outputs": []
    },
    {
      "cell_type": "code",
      "metadata": {
        "id": "DF81YJ51cN9e"
      },
      "source": [
        "pdf_path = 'pdf_files'\n",
        "path = os.path.join(os.getcwd(), pdf_path)\n",
        "\n",
        "pdfurl = 'https://dip21.bundestag.de/dip21/btp/15/15014.pdf'\n",
        "filename = 'pdf_files/testfile'\n",
        "\n",
        "download_pdf(pdfurl, filename)\n",
        "without_cleaning = convert_pdf_to_text(filename)\n",
        "\n",
        "#with_cleaning = data_cleaning(without_cleaning)"
      ],
      "execution_count": null,
      "outputs": []
    },
    {
      "cell_type": "markdown",
      "metadata": {
        "id": "UrKcvjz4e0iV"
      },
      "source": [
        "#Trying out BERT with hugging face library\n",
        "https://www.machinecurve.com/index.php/2020/12/21/easy-text-summarization-with-huggingface-transformers-and-machine-learning/"
      ]
    },
    {
      "cell_type": "code",
      "metadata": {
        "colab": {
          "base_uri": "https://localhost:8080/",
          "height": 650
        },
        "id": "ny6Jr6Bzc-9B",
        "outputId": "164dbb00-f5ab-4760-de4a-126246bf1903"
      },
      "source": [
        "!pip install transformers;\n",
        "from transformers import pipeline\n",
        "\n",
        "with_cleaning_small = ''\n",
        "for i in range(400):\n",
        "  with_cleaning_small += with_cleaning[i] + ' '\n",
        "\n",
        "# Open and read the article\n",
        "#f = open(\"article.txt\", \"r\", encoding=\"utf8\")\n",
        "to_tokenize = with_cleaning\n",
        "\n",
        "# Initialize the HuggingFace summarization pipeline\n",
        "summarizer = pipeline(\"summarization\")\n",
        "summarized = summarizer(to_tokenize, min_length=75, max_length=300)\n",
        "\n",
        "# Print summarized text\n",
        "print(summarized)"
      ],
      "execution_count": null,
      "outputs": [
        {
          "output_type": "stream",
          "text": [
            "Requirement already satisfied: transformers in /usr/local/lib/python3.7/dist-packages (4.9.2)\n",
            "Requirement already satisfied: regex!=2019.12.17 in /usr/local/lib/python3.7/dist-packages (from transformers) (2019.12.20)\n",
            "Requirement already satisfied: pyyaml>=5.1 in /usr/local/lib/python3.7/dist-packages (from transformers) (5.4.1)\n",
            "Requirement already satisfied: tqdm>=4.27 in /usr/local/lib/python3.7/dist-packages (from transformers) (4.62.0)\n",
            "Requirement already satisfied: huggingface-hub==0.0.12 in /usr/local/lib/python3.7/dist-packages (from transformers) (0.0.12)\n",
            "Requirement already satisfied: numpy>=1.17 in /usr/local/lib/python3.7/dist-packages (from transformers) (1.19.5)\n",
            "Requirement already satisfied: sacremoses in /usr/local/lib/python3.7/dist-packages (from transformers) (0.0.45)\n",
            "Requirement already satisfied: filelock in /usr/local/lib/python3.7/dist-packages (from transformers) (3.0.12)\n",
            "Requirement already satisfied: importlib-metadata in /usr/local/lib/python3.7/dist-packages (from transformers) (4.6.3)\n",
            "Requirement already satisfied: requests in /usr/local/lib/python3.7/dist-packages (from transformers) (2.23.0)\n",
            "Requirement already satisfied: packaging in /usr/local/lib/python3.7/dist-packages (from transformers) (21.0)\n",
            "Requirement already satisfied: tokenizers<0.11,>=0.10.1 in /usr/local/lib/python3.7/dist-packages (from transformers) (0.10.3)\n",
            "Requirement already satisfied: typing-extensions in /usr/local/lib/python3.7/dist-packages (from huggingface-hub==0.0.12->transformers) (3.7.4.3)\n",
            "Requirement already satisfied: pyparsing>=2.0.2 in /usr/local/lib/python3.7/dist-packages (from packaging->transformers) (2.4.7)\n",
            "Requirement already satisfied: zipp>=0.5 in /usr/local/lib/python3.7/dist-packages (from importlib-metadata->transformers) (3.5.0)\n",
            "Requirement already satisfied: certifi>=2017.4.17 in /usr/local/lib/python3.7/dist-packages (from requests->transformers) (2021.5.30)\n",
            "Requirement already satisfied: chardet<4,>=3.0.2 in /usr/local/lib/python3.7/dist-packages (from requests->transformers) (3.0.4)\n",
            "Requirement already satisfied: idna<3,>=2.5 in /usr/local/lib/python3.7/dist-packages (from requests->transformers) (2.10)\n",
            "Requirement already satisfied: urllib3!=1.25.0,!=1.25.1,<1.26,>=1.21.1 in /usr/local/lib/python3.7/dist-packages (from requests->transformers) (1.24.3)\n",
            "Requirement already satisfied: click in /usr/local/lib/python3.7/dist-packages (from sacremoses->transformers) (7.1.2)\n",
            "Requirement already satisfied: six in /usr/local/lib/python3.7/dist-packages (from sacremoses->transformers) (1.15.0)\n",
            "Requirement already satisfied: joblib in /usr/local/lib/python3.7/dist-packages (from sacremoses->transformers) (1.0.1)\n"
          ],
          "name": "stdout"
        },
        {
          "output_type": "error",
          "ename": "NameError",
          "evalue": "ignored",
          "traceback": [
            "\u001b[0;31m---------------------------------------------------------------------------\u001b[0m",
            "\u001b[0;31mNameError\u001b[0m                                 Traceback (most recent call last)",
            "\u001b[0;32m<ipython-input-15-375c086edaa4>\u001b[0m in \u001b[0;36m<module>\u001b[0;34m()\u001b[0m\n\u001b[1;32m      4\u001b[0m \u001b[0mwith_cleaning_small\u001b[0m \u001b[0;34m=\u001b[0m \u001b[0;34m''\u001b[0m\u001b[0;34m\u001b[0m\u001b[0;34m\u001b[0m\u001b[0m\n\u001b[1;32m      5\u001b[0m \u001b[0;32mfor\u001b[0m \u001b[0mi\u001b[0m \u001b[0;32min\u001b[0m \u001b[0mrange\u001b[0m\u001b[0;34m(\u001b[0m\u001b[0;36m400\u001b[0m\u001b[0;34m)\u001b[0m\u001b[0;34m:\u001b[0m\u001b[0;34m\u001b[0m\u001b[0;34m\u001b[0m\u001b[0m\n\u001b[0;32m----> 6\u001b[0;31m   \u001b[0mwith_cleaning_small\u001b[0m \u001b[0;34m+=\u001b[0m \u001b[0mwith_cleaning\u001b[0m\u001b[0;34m[\u001b[0m\u001b[0mi\u001b[0m\u001b[0;34m]\u001b[0m \u001b[0;34m+\u001b[0m \u001b[0;34m' '\u001b[0m\u001b[0;34m\u001b[0m\u001b[0;34m\u001b[0m\u001b[0m\n\u001b[0m\u001b[1;32m      7\u001b[0m \u001b[0;34m\u001b[0m\u001b[0m\n\u001b[1;32m      8\u001b[0m \u001b[0;31m# Open and read the article\u001b[0m\u001b[0;34m\u001b[0m\u001b[0;34m\u001b[0m\u001b[0;34m\u001b[0m\u001b[0m\n",
            "\u001b[0;31mNameError\u001b[0m: name 'with_cleaning' is not defined"
          ]
        }
      ]
    },
    {
      "cell_type": "code",
      "metadata": {
        "id": "rYLPJ0jLe7k_"
      },
      "source": [
        "without_cleaning_split = []\n",
        "tokens = without_cleaning.split()\n",
        "token_length = 350\n",
        "for i in range(len(tokens)//token_length):\n",
        "  sentance = ''\n",
        "  for j in range(token_length):\n",
        "    sentance += tokens[token_length*i + j] + ' '\n",
        "  without_cleaning_split.append(sentance)"
      ],
      "execution_count": null,
      "outputs": []
    },
    {
      "cell_type": "code",
      "metadata": {
        "id": "ngrF0Mfre86p"
      },
      "source": [
        "summary = []\n",
        "for sentance in without_cleaning_split:\n",
        "  to_tokenize = sentance\n",
        "  print('done')\n",
        "  # Initialize the HuggingFace summarization pipeline\n",
        "  summarizer = pipeline(\"summarization\")\n",
        "  summarized = summarizer(to_tokenize, min_length=10, max_length=300)\n",
        "  summary.append(summarized)\n",
        "  # Print summarized text\n"
      ],
      "execution_count": null,
      "outputs": []
    },
    {
      "cell_type": "code",
      "metadata": {
        "id": "j-fpX424e-cE"
      },
      "source": [
        "print(summary)\n",
        "print(len(summary))"
      ],
      "execution_count": null,
      "outputs": []
    },
    {
      "cell_type": "code",
      "metadata": {
        "id": "PaRIsBqOhp87"
      },
      "source": [
        "!pip install transformers"
      ],
      "execution_count": null,
      "outputs": []
    },
    {
      "cell_type": "code",
      "metadata": {
        "id": "mvxpTKh-hs8R"
      },
      "source": [
        "from transformers import pipeline\n",
        "\n",
        "to_tokenize = without_cleaning\n",
        "\n",
        "# Initialize the HuggingFace summarization pipeline\n",
        "summarizer = pipeline(\"summarization\")\n",
        "summarized = summarizer(to_tokenize, min_length=75, max_length=300)\n",
        "\n",
        "# Print summarized text\n",
        "print(summarized)"
      ],
      "execution_count": null,
      "outputs": []
    },
    {
      "cell_type": "markdown",
      "metadata": {
        "id": "EIAC3kr6Jruu"
      },
      "source": [
        "#My own version using hugging transformers"
      ]
    },
    {
      "cell_type": "code",
      "metadata": {
        "colab": {
          "base_uri": "https://localhost:8080/"
        },
        "id": "7fOLKeNpJzLa",
        "outputId": "2d0dd9c1-6d73-4ee3-fa45-26e7f8a1752d"
      },
      "source": [
        "!pip install transformers"
      ],
      "execution_count": null,
      "outputs": [
        {
          "output_type": "stream",
          "text": [
            "Collecting transformers\n",
            "  Downloading transformers-4.9.2-py3-none-any.whl (2.6 MB)\n",
            "\u001b[K     |████████████████████████████████| 2.6 MB 26.4 MB/s \n",
            "\u001b[?25hRequirement already satisfied: regex!=2019.12.17 in /usr/local/lib/python3.7/dist-packages (from transformers) (2019.12.20)\n",
            "Requirement already satisfied: requests in /usr/local/lib/python3.7/dist-packages (from transformers) (2.23.0)\n",
            "Requirement already satisfied: importlib-metadata in /usr/local/lib/python3.7/dist-packages (from transformers) (4.6.4)\n",
            "Requirement already satisfied: numpy>=1.17 in /usr/local/lib/python3.7/dist-packages (from transformers) (1.19.5)\n",
            "Requirement already satisfied: filelock in /usr/local/lib/python3.7/dist-packages (from transformers) (3.0.12)\n",
            "Collecting pyyaml>=5.1\n",
            "  Downloading PyYAML-5.4.1-cp37-cp37m-manylinux1_x86_64.whl (636 kB)\n",
            "\u001b[K     |████████████████████████████████| 636 kB 28.8 MB/s \n",
            "\u001b[?25hRequirement already satisfied: packaging in /usr/local/lib/python3.7/dist-packages (from transformers) (21.0)\n",
            "Collecting sacremoses\n",
            "  Downloading sacremoses-0.0.45-py3-none-any.whl (895 kB)\n",
            "\u001b[K     |████████████████████████████████| 895 kB 42.0 MB/s \n",
            "\u001b[?25hRequirement already satisfied: tqdm>=4.27 in /usr/local/lib/python3.7/dist-packages (from transformers) (4.62.0)\n",
            "Collecting tokenizers<0.11,>=0.10.1\n",
            "  Downloading tokenizers-0.10.3-cp37-cp37m-manylinux_2_5_x86_64.manylinux1_x86_64.manylinux_2_12_x86_64.manylinux2010_x86_64.whl (3.3 MB)\n",
            "\u001b[K     |████████████████████████████████| 3.3 MB 25.6 MB/s \n",
            "\u001b[?25hCollecting huggingface-hub==0.0.12\n",
            "  Downloading huggingface_hub-0.0.12-py3-none-any.whl (37 kB)\n",
            "Requirement already satisfied: typing-extensions in /usr/local/lib/python3.7/dist-packages (from huggingface-hub==0.0.12->transformers) (3.7.4.3)\n",
            "Requirement already satisfied: pyparsing>=2.0.2 in /usr/local/lib/python3.7/dist-packages (from packaging->transformers) (2.4.7)\n",
            "Requirement already satisfied: zipp>=0.5 in /usr/local/lib/python3.7/dist-packages (from importlib-metadata->transformers) (3.5.0)\n",
            "Requirement already satisfied: idna<3,>=2.5 in /usr/local/lib/python3.7/dist-packages (from requests->transformers) (2.10)\n",
            "Requirement already satisfied: chardet<4,>=3.0.2 in /usr/local/lib/python3.7/dist-packages (from requests->transformers) (3.0.4)\n",
            "Requirement already satisfied: urllib3!=1.25.0,!=1.25.1,<1.26,>=1.21.1 in /usr/local/lib/python3.7/dist-packages (from requests->transformers) (1.24.3)\n",
            "Requirement already satisfied: certifi>=2017.4.17 in /usr/local/lib/python3.7/dist-packages (from requests->transformers) (2021.5.30)\n",
            "Requirement already satisfied: joblib in /usr/local/lib/python3.7/dist-packages (from sacremoses->transformers) (1.0.1)\n",
            "Requirement already satisfied: six in /usr/local/lib/python3.7/dist-packages (from sacremoses->transformers) (1.15.0)\n",
            "Requirement already satisfied: click in /usr/local/lib/python3.7/dist-packages (from sacremoses->transformers) (7.1.2)\n",
            "Installing collected packages: tokenizers, sacremoses, pyyaml, huggingface-hub, transformers\n",
            "  Attempting uninstall: pyyaml\n",
            "    Found existing installation: PyYAML 3.13\n",
            "    Uninstalling PyYAML-3.13:\n",
            "      Successfully uninstalled PyYAML-3.13\n",
            "Successfully installed huggingface-hub-0.0.12 pyyaml-5.4.1 sacremoses-0.0.45 tokenizers-0.10.3 transformers-4.9.2\n"
          ],
          "name": "stdout"
        }
      ]
    },
    {
      "cell_type": "code",
      "metadata": {
        "id": "6oFY54d-jl19"
      },
      "source": [
        "# function to split sentances into paragraphs\n",
        "import re\n",
        "from string import ascii_lowercase as alphabet\n",
        "\n",
        "def split_to_sentance(max_sentance_length, text):\n",
        "  split_text = re.split(f'[{punctuation}\\n]', text)\n",
        "  split_text = [sentance.strip() for sentance in split_text]\n",
        "  [split_text.remove(sentance) for sentance in split_text if sentance in ['','f{punctuation}']]\n",
        "  \n",
        "  \n",
        "  \n",
        "  paragraphs = ['' for i in range(len(text.split())//max_sentance_length + 1)]\n",
        "  i = 0\n",
        "  for sentance in split_text:\n",
        "    sentance_length = len(sentance.split())\n",
        "\n",
        "    if len(paragraphs[i].split()) < (max_sentance_length - sentance_length):\n",
        "      paragraphs[i] += ' ' + sentance\n",
        "    else:\n",
        "      i += 1\n",
        "  return paragraphs\n",
        "\n",
        "\n",
        "\n",
        "\n",
        "\n"
      ],
      "execution_count": null,
      "outputs": []
    },
    {
      "cell_type": "code",
      "metadata": {
        "colab": {
          "base_uri": "https://localhost:8080/"
        },
        "id": "13fwW2Yv_MSW",
        "outputId": "c941d359-7777-4ecb-b0e7-c5a98a79f615"
      },
      "source": [
        "text = split_to_sentance(350, without_cleaning)\n",
        "len(text[0].split())"
      ],
      "execution_count": null,
      "outputs": [
        {
          "output_type": "execute_result",
          "data": {
            "text/plain": [
              "349"
            ]
          },
          "metadata": {
            "tags": []
          },
          "execution_count": 11
        }
      ]
    },
    {
      "cell_type": "code",
      "metadata": {
        "id": "MQIFVH4q7ibT"
      },
      "source": [
        "from transformers import pipeline\n",
        "\n",
        "#file = open('summary.txt', 'w')\n",
        "file.write('')\n",
        "i = 0\n",
        "total = len(without_cleaning.split())\n",
        "for paragraph in text:\n",
        "  to_tokenize = paragraph\n",
        "  print(i/total * 100)\n",
        "\n",
        "  # Initialize the HuggingFace summarization pipeline\n",
        "  summarizer = pipeline(\"summarization\")\n",
        "  summarized = summarizer(to_tokenize, min_length=1, max_length=20)\n",
        "  file = open('summary.txt', 'a')\n",
        "  file.write(summarized[0]['summary_text'] + '\\n')\n",
        "  i = i + len(paragraph.split())\n"
      ],
      "execution_count": null,
      "outputs": []
    },
    {
      "cell_type": "code",
      "metadata": {
        "id": "WKjC8N_9R66i"
      },
      "source": [
        "file = open('summary.txt', 'r')\n",
        "\n",
        "text = ''\n",
        "for line in file:\n",
        "  text += line + ' '"
      ],
      "execution_count": null,
      "outputs": []
    },
    {
      "cell_type": "code",
      "metadata": {
        "colab": {
          "base_uri": "https://localhost:8080/"
        },
        "id": "0T3y2sLrE2kq",
        "outputId": "d3d1fa36-4ea5-4c4b-cf9e-6a0161c0c96d"
      },
      "source": [
        "len(text.split())"
      ],
      "execution_count": null,
      "outputs": [
        {
          "output_type": "execute_result",
          "data": {
            "text/plain": [
              "2004"
            ]
          },
          "metadata": {
            "tags": []
          },
          "execution_count": 16
        }
      ]
    },
    {
      "cell_type": "code",
      "metadata": {
        "id": "SCKxm1GhDRKX"
      },
      "source": [
        "print(text)"
      ],
      "execution_count": null,
      "outputs": []
    },
    {
      "cell_type": "code",
      "metadata": {
        "id": "b7teLqZxEZSO"
      },
      "source": [
        "def summarisation(filename, input_text, total_length, MIN_length = 1, MAX_length = 300):\n",
        "  file = open(filename, 'w')\n",
        "  file.write('')\n",
        "  i = 0\n",
        "  total = total_length\n",
        "  for paragraph in input_text:\n",
        "    to_tokenize = paragraph\n",
        "    print(i/total * 100)\n",
        "\n",
        "    # Initialize the HuggingFace summarization pipeline\n",
        "    summarizer = pipeline(\"summarization\")\n",
        "    summarized = summarizer(to_tokenize, min_length=MIN_length, max_length=MAX_length)\n",
        "    file = open(filename, 'a')\n",
        "    file.write(summarized[0]['summary_text'] + '\\n')\n",
        "    i = i + len(paragraph.split())"
      ],
      "execution_count": null,
      "outputs": []
    },
    {
      "cell_type": "code",
      "metadata": {
        "colab": {
          "base_uri": "https://localhost:8080/"
        },
        "id": "M5OqC1VCE75h",
        "outputId": "c1aa0900-8582-4104-8577-f8c41574f240"
      },
      "source": [
        "new_summarisation = split_to_sentance(350, text)\n",
        "summarisation('second_summary.txt', new_summarisation, len(text.split()), 30, 100)"
      ],
      "execution_count": null,
      "outputs": [
        {
          "output_type": "stream",
          "text": [
            "0.0\n",
            "17.365269461077844\n",
            "34.78043912175649\n",
            "52.09580838323353\n",
            "69.311377245509\n",
            "86.62674650698602\n"
          ],
          "name": "stdout"
        }
      ]
    },
    {
      "cell_type": "code",
      "metadata": {
        "id": "OK6iYaANGK5b"
      },
      "source": [
        "file = open('second_summary.txt', 'r')\n",
        "\n",
        "text_2 = ''\n",
        "for line in file:\n",
        "  text_2 += line + ' '"
      ],
      "execution_count": null,
      "outputs": []
    },
    {
      "cell_type": "code",
      "metadata": {
        "colab": {
          "base_uri": "https://localhost:8080/"
        },
        "id": "ogdg2hIKGb1j",
        "outputId": "d6673730-b813-4c83-e6e8-913b131ec286"
      },
      "source": [
        "print(text_2)\n",
        "print(len(text_2.split()))"
      ],
      "execution_count": null,
      "outputs": [
        {
          "output_type": "stream",
          "text": [
            " Inhalt Wahl des Abgeordneten Dieter Wiefelsp Antrag der Fraktionen der SPD der CDU CSU des B� The 15 Wahlperiode – 14 Sitzung Berlin Donnerstag . Operation Fox soll schließlich die in keiten abgeschloss Mazedonien darf nicht Beifall bei der SPD und dem Die CDUCSU wird der Verlä\n",
            "  Steuerreform wollen 2004 und 2005 Entlastungen für Unter Unser Land braucht dringend  des Bundes eingeschlagen Wir brauchen hierzulande in Europa and dieBayerischeSt Die longue übrigens immer noch der Wachstums In unserer Außenwirtschaftspolitik wollen wir Deutsche Gewerkschaftsbund in der begin\n",
            "  Die CDU CSU macht es entschieden zu Ausfr Die Personal Service Agenturenkönnen auf der Ba Beifall des Im Vermittlungsausschuss wollen Sie mit uns zusam Hartz ist eine revolutionäre Idee – die Mehrheit in BeifAll bei der SPD and dem BÜNDNIS 90 Nord Regierung war wie sie sich prä\n",
            "  Dr Jürgen Gehb CDU CSU fassungswidrigke Untersuchungsausschuss in allen Phasen des Par n Schindluder with der Verfassung getrieben werde Plenarsaal möglichst zügig zu ver Die Rentenversicherung macht im Moment wie  konj In der ersten drei Quar rund 77\n",
            "  Aussagen zur Sozialversicherung geboten hat Deutscher Bundestag – 15 Wahlperiode – 14 S Im Oktober2003 wird die Mindestreserve auf ei d Aufgrund der ne gestiegene Motivation weiter zu steig Die Integrationsfachdienste haben im Zusammenspiel Reform der sozialen Sicherungssysteme\n",
            "  Manfred Grund CDU CSU Auch da hat der Kanzler Recht  schäftsbereic ist nichts anderes als Augenwischerei Eigentum in unserem Land ungerecht und ungleich Her Beifall bei  bei der CDUCSU – Ute Kumpf SPD Herta Eymer Lübeck .\n",
            " \n",
            "247\n"
          ],
          "name": "stdout"
        }
      ]
    },
    {
      "cell_type": "code",
      "metadata": {
        "id": "AkMgL6urJF8H"
      },
      "source": [
        ""
      ],
      "execution_count": null,
      "outputs": []
    },
    {
      "cell_type": "markdown",
      "metadata": {
        "id": "pkhuSnozJMzL"
      },
      "source": [
        "#Cosine similarity matching"
      ]
    },
    {
      "cell_type": "code",
      "metadata": {
        "id": "6eNtEKRRJY-i"
      },
      "source": [
        "!pip install spacy\n",
        "!python -m spacy download de_core_news_sm\n",
        "\n",
        "from nltk.corpus import stopwords\n",
        "nltk.download('stopwords')\n",
        "stop_words = stopwords.words(\"german\")\n"
      ],
      "execution_count": null,
      "outputs": []
    },
    {
      "cell_type": "code",
      "metadata": {
        "id": "v0r0XghaUl4a"
      },
      "source": [
        "!pip install sentence_transformers\n",
        "from sentence_transformers import SentenceTransformer\n",
        "\n",
        "model = SentenceTransformer('msmarco-distilbert-multilingual-en-de-v2-tmp-trained-scratch')\n",
        "doc_embedding = model.encode([text_2])"
      ],
      "execution_count": null,
      "outputs": []
    },
    {
      "cell_type": "code",
      "metadata": {
        "id": "E4Mq6FFlUvun"
      },
      "source": [
        "from sklearn.metrics.pairwise import cosine_similarity"
      ],
      "execution_count": null,
      "outputs": []
    },
    {
      "cell_type": "code",
      "metadata": {
        "id": "_ITRX1rwU63S"
      },
      "source": [
        "potential_projects_series = df_pd[['Titel']]\n",
        "potential_projects = []\n",
        "potential_projects_embeddings = []\n",
        "for i in range(len(potential_projects_series)):\n",
        "  potential_projects.append(potential_projects_series.iloc[i])\n",
        "\n",
        "for i in range(len(potential_projects)):\n",
        "  embeddings = model.encode(potential_projects[i])\n",
        "  potential_projects_embeddings.append(embeddings)\n",
        "\n",
        "similarities = []\n",
        "for i in range(len(potential_projects_embeddings)):\n",
        "  similarities.append(cosine_similarity(doc_embedding, potential_projects_embeddings[i]).astype(float))\n"
      ],
      "execution_count": null,
      "outputs": []
    },
    {
      "cell_type": "code",
      "metadata": {
        "colab": {
          "base_uri": "https://localhost:8080/"
        },
        "id": "XzVbqySXZdru",
        "outputId": "2248f105-32c7-44ac-af3c-b08bfa2677e0"
      },
      "source": [
        "potential_projects_series['Similarities'] = similarities"
      ],
      "execution_count": null,
      "outputs": [
        {
          "output_type": "stream",
          "text": [
            "/usr/local/lib/python3.7/dist-packages/ipykernel_launcher.py:1: SettingWithCopyWarning: \n",
            "A value is trying to be set on a copy of a slice from a DataFrame.\n",
            "Try using .loc[row_indexer,col_indexer] = value instead\n",
            "\n",
            "See the caveats in the documentation: https://pandas.pydata.org/pandas-docs/stable/user_guide/indexing.html#returning-a-view-versus-a-copy\n",
            "  \"\"\"Entry point for launching an IPython kernel.\n"
          ],
          "name": "stderr"
        }
      ]
    },
    {
      "cell_type": "code",
      "metadata": {
        "id": "wnCh4eckVXRK"
      },
      "source": [
        "potential_projects_series = potential_projects_series.sort_values('Similarities')"
      ],
      "execution_count": null,
      "outputs": []
    },
    {
      "cell_type": "code",
      "metadata": {
        "id": "gJ2g-dYFcE6Z"
      },
      "source": [
        "potential_projects_series.to_csv('projects_similarities.csv')"
      ],
      "execution_count": null,
      "outputs": []
    },
    {
      "cell_type": "markdown",
      "metadata": {
        "id": "A70aFH8z_WGZ"
      },
      "source": [
        "#Trying with coalition agreements"
      ]
    },
    {
      "cell_type": "code",
      "metadata": {
        "id": "HmTrl8G3cUEp",
        "colab": {
          "base_uri": "https://localhost:8080/",
          "height": 247
        },
        "outputId": "73a9f3fc-e013-4be3-e757-c235057b6677"
      },
      "source": [
        "from transformers import pipeline\n",
        "file_url = 'https://www.bundesregierung.de/resource/blob/974430/847984/5b8bc23590d4cb2892b31c987ad672b7/2018-03-14-koalitionsvertrag-data.pdf'\n",
        "filename = 'pdf_files/19th-coalition'\n",
        "#download_pdf(file_url, filename)\n",
        "coalition_text = convert_pdf_to_text(filename)\n",
        "coalition_text_split = split_to_sentance(300, coalition_text)\n",
        "summarisation('coalition_summary_second_try.txt', coalition_text_split, len(coalition_text.split()), 1, 15)"
      ],
      "execution_count": null,
      "outputs": [
        {
          "output_type": "error",
          "ename": "NameError",
          "evalue": "ignored",
          "traceback": [
            "\u001b[0;31m---------------------------------------------------------------------------\u001b[0m",
            "\u001b[0;31mNameError\u001b[0m                                 Traceback (most recent call last)",
            "\u001b[0;32m<ipython-input-1-3bf6c22c4a14>\u001b[0m in \u001b[0;36m<module>\u001b[0;34m()\u001b[0m\n\u001b[1;32m      3\u001b[0m \u001b[0mfilename\u001b[0m \u001b[0;34m=\u001b[0m \u001b[0;34m'pdf_files/19th-coalition'\u001b[0m\u001b[0;34m\u001b[0m\u001b[0;34m\u001b[0m\u001b[0m\n\u001b[1;32m      4\u001b[0m \u001b[0;31m#download_pdf(file_url, filename)\u001b[0m\u001b[0;34m\u001b[0m\u001b[0;34m\u001b[0m\u001b[0;34m\u001b[0m\u001b[0m\n\u001b[0;32m----> 5\u001b[0;31m \u001b[0mcoalition_text\u001b[0m \u001b[0;34m=\u001b[0m \u001b[0mconvert_pdf_to_text\u001b[0m\u001b[0;34m(\u001b[0m\u001b[0mfilename\u001b[0m\u001b[0;34m)\u001b[0m\u001b[0;34m\u001b[0m\u001b[0;34m\u001b[0m\u001b[0m\n\u001b[0m\u001b[1;32m      6\u001b[0m \u001b[0mcoalition_text_split\u001b[0m \u001b[0;34m=\u001b[0m \u001b[0msplit_to_sentance\u001b[0m\u001b[0;34m(\u001b[0m\u001b[0;36m300\u001b[0m\u001b[0;34m,\u001b[0m \u001b[0mcoalition_text\u001b[0m\u001b[0;34m)\u001b[0m\u001b[0;34m\u001b[0m\u001b[0;34m\u001b[0m\u001b[0m\n\u001b[1;32m      7\u001b[0m \u001b[0msummarisation\u001b[0m\u001b[0;34m(\u001b[0m\u001b[0;34m'coalition_summary_second_try.txt'\u001b[0m\u001b[0;34m,\u001b[0m \u001b[0mcoalition_text_split\u001b[0m\u001b[0;34m,\u001b[0m \u001b[0mlen\u001b[0m\u001b[0;34m(\u001b[0m\u001b[0mcoalition_text\u001b[0m\u001b[0;34m.\u001b[0m\u001b[0msplit\u001b[0m\u001b[0;34m(\u001b[0m\u001b[0;34m)\u001b[0m\u001b[0;34m)\u001b[0m\u001b[0;34m,\u001b[0m \u001b[0;36m1\u001b[0m\u001b[0;34m,\u001b[0m \u001b[0;36m15\u001b[0m\u001b[0;34m)\u001b[0m\u001b[0;34m\u001b[0m\u001b[0;34m\u001b[0m\u001b[0m\n",
            "\u001b[0;31mNameError\u001b[0m: name 'convert_pdf_to_text' is not defined"
          ]
        }
      ]
    },
    {
      "cell_type": "code",
      "metadata": {
        "id": "f6lxmQKkA00W"
      },
      "source": [
        "file = open('coalition_summary_second_try.txt', 'r')\n",
        "text = ''\n",
        "for line in file:\n",
        "  text += line\n",
        "\n",
        "\n",
        "len(text.split())"
      ],
      "execution_count": null,
      "outputs": []
    },
    {
      "cell_type": "code",
      "metadata": {
        "id": "_3TJMngIPw_p"
      },
      "source": [
        "#need to do cosine similarity on this"
      ],
      "execution_count": null,
      "outputs": []
    },
    {
      "cell_type": "markdown",
      "metadata": {
        "id": "dF6vEzN3PiMf"
      },
      "source": [
        "#Web scraping to try create dataset with unique PD departments"
      ]
    },
    {
      "cell_type": "code",
      "metadata": {
        "id": "UZTJl-D6P7Oe"
      },
      "source": [
        "departments = ['MB Bundes- und Landesbau', 'MB Gesundheitswesen', 'MB Kommunalberatung', 'CC beschaffung und Vergabe', 'CC Lebensyzklusorientiertes Projektmanagement, Nachhaltigkeit', 'CC Transformation', 'CC Wirtschaftlichkeit und Finanyen',\n",
        "               'PG Building Information Modeling', 'PG Kommunales E-Government', 'PG Mediyintechnik', 'PG Smart City, Smart Data', 'PG Wohnen und Quartier']"
      ],
      "execution_count": null,
      "outputs": []
    }
  ]
}